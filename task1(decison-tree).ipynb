{
 "cells": [
  {
   "cell_type": "markdown",
   "id": "cdbc77dd",
   "metadata": {},
   "source": [
    "# 🌳 Decision Tree Classifier on Iris Dataset\n",
    "This notebook demonstrates how to build, train, and evaluate a Decision Tree model using the Iris dataset.\n",
    "We'll visualize the model, calculate performance metrics, and explain the results in a clean and human-readable format."
   ]
  },
  {
   "cell_type": "code",
   "execution_count": null,
   "id": "76d0e25e",
   "metadata": {},
   "outputs": [],
   "source": [
    "# 📊 Import Required Libraries\n",
    "import pandas as pd\n",
    "import numpy as np\n",
    "import matplotlib.pyplot as plt\n",
    "from sklearn.datasets import load_iris\n",
    "from sklearn.tree import DecisionTreeClassifier, plot_tree\n",
    "from sklearn.model_selection import train_test_split\n",
    "from sklearn.metrics import accuracy_score, classification_report, confusion_matrix"
   ]
  },
  {
   "cell_type": "code",
   "execution_count": null,
   "id": "13a4f1e1",
   "metadata": {},
   "outputs": [],
   "source": [
    "# 📥 Load the Iris Dataset\n",
    "iris = load_iris()\n",
    "X = iris.data\n",
    "y = iris.target\n",
    "print(\"Dataset loaded successfully.\")\n",
    "print(f\"Features: {iris.feature_names}\")\n",
    "print(f\"Target classes: {iris.target_names.tolist()}\")"
   ]
  },
  {
   "cell_type": "code",
   "execution_count": null,
   "id": "3dba9bdf",
   "metadata": {},
   "outputs": [],
   "source": [
    "# ✂️ Split the Data into Training and Testing Sets\n",
    "X_train, X_test, y_train, y_test = train_test_split(\n",
    "    X, y, test_size=0.3, random_state=42\n",
    ")\n",
    "print(f\"Training samples: {len(X_train)}, Testing samples: {len(X_test)}\")"
   ]
  },
  {
   "cell_type": "code",
   "execution_count": null,
   "id": "d663e4ca",
   "metadata": {},
   "outputs": [],
   "source": [
    "# 🤖 Train the Decision Tree Model\n",
    "clf = DecisionTreeClassifier(random_state=42)\n",
    "clf.fit(X_train, y_train)\n",
    "print(\"Model training completed.\")"
   ]
  },
  {
   "cell_type": "code",
   "execution_count": null,
   "id": "e427e8b8",
   "metadata": {},
   "outputs": [],
   "source": [
    "# ✅ Make Predictions and Evaluate Accuracy\n",
    "y_pred = clf.predict(X_test)\n",
    "accuracy = accuracy_score(y_test, y_pred)\n",
    "print(f\"✅ Accuracy on Test Set: {accuracy * 100:.2f}%\")"
   ]
  },
  {
   "cell_type": "code",
   "execution_count": null,
   "id": "38ba36b9",
   "metadata": {},
   "outputs": [],
   "source": [
    "# 📌 Compare Predictions with Actual Labels (first 10 samples)\n",
    "print(\"Predicted Labels :\", y_pred[:10])\n",
    "print(\"Actual Labels    :\", y_test[:10])"
   ]
  },
  {
   "cell_type": "code",
   "execution_count": null,
   "id": "88602d50",
   "metadata": {},
   "outputs": [],
   "source": [
    "# 📊 Confusion Matrix & Classification Report\n",
    "print(\"\\n📊 Confusion Matrix:\")\n",
    "print(confusion_matrix(y_test, y_pred))\n",
    "\n",
    "print(\"\\n📋 Classification Report:\")\n",
    "print(classification_report(y_test, y_pred, target_names=iris.target_names))"
   ]
  },
  {
   "cell_type": "code",
   "execution_count": null,
   "id": "7182a219",
   "metadata": {},
   "outputs": [],
   "source": [
    "# 🎨 Visualize the Decision Tree\n",
    "plt.figure(figsize=(14, 8))\n",
    "plot_tree(\n",
    "    clf,\n",
    "    feature_names=iris.feature_names,\n",
    "    class_names=iris.target_names,\n",
    "    filled=True,\n",
    "    rounded=True,\n",
    "    fontsize=10\n",
    ")\n",
    "plt.title(\"Decision Tree Visualization (Iris Dataset)\")\n",
    "plt.show()"
   ]
  },
  {
   "cell_type": "code",
   "execution_count": null,
   "id": "f81bfa30",
   "metadata": {},
   "outputs": [],
   "source": [
    "# 📈 Feature Importances\n",
    "print(\"\\n📌 Feature Importances (which features the model relies on the most):\")\n",
    "for name, importance in zip(iris.feature_names, clf.feature_importances_):\n",
    "    print(f\"{name}: {importance:.4f}\")"
   ]
  },
  {
   "cell_type": "markdown",
   "id": "6056629c",
   "metadata": {},
   "source": [
    "### ✅ Summary\n",
    "- We used the Iris dataset to train a Decision Tree model.\n",
    "- Achieved accuracy was printed and explained.\n",
    "- Predictions were compared with actual labels.\n",
    "- Model was visualized clearly using `plot_tree`.\n",
    "- Feature importances were explained.\n",
    "\n",
    "This notebook provides a complete overview of training and evaluating a decision tree model in a real-world format, suitable for learning or reporting."
   ]
  }
 ],
 "metadata": {},
 "nbformat": 4,
 "nbformat_minor": 5
}
